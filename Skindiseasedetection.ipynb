import os
import numpy as np
import cv2
from sklearn import svm
from sklearn.metrics import accuracy_score

train_path = 'C:/Users/agastan/Downloads/archived/'
test_path = 'C:/Users/agastan/Downloads/archived/'

categories = ['Tomato_Spider_mites_Two_spotted_spider_mite','Tomato_Septoria_leaf_spot', '', 'Tomato_Leaf_Mold']


image_size = (64, 64)


def preprocess_image(image):
    
    image = cv2.resize(image, image_size)
    
    image = cv2.cvtColor(image, cv2.COLOR_BGR2GRAY)
  
    image = image.flatten()
   
    return image


train_images = []
train_labels = []
test_images = []
test_labels = []

for category in categories:
    
    train_category_path = os.path.join(train_path, category)
    for filename in os.listdir(train_category_path):
        image_path = os.path.join(train_category_path, filename)
        image = cv2.imread(image_path)
        image = preprocess_image(image)
        train_images.append(image)
        train_labels.append(categories.index(category))
    
    test_category_path = os.path.join(test_path, category)
    for filename in os.listdir(test_category_path):
        image_path = os.path.join(test_category_path, filename)
        image = cv2.imread(image_path)
        image = preprocess_image(image)
        test_images.append(image)
        test_labels.append(categories.index(category))

train_images = np.array(train_images)
train_labels = np.array(train_labels)
test_images = np.array(test_images)
test_labels = np.array(test_labels)


svm_classifier = svm.SVC(kernel='linear')
svm_classifier.fit(train_images, train_labels)

y_pred = svm_classifier.predict(test_images)

accuracy = accuracy_score(test_labels, y_pred)

print('Accuracy:', accuracy)

test_image1 = r"C:\Users\agastan\Downloads\archived\Tomato_Spider_mites_Two_spotted_spider_mite\ff9a52b5-b200-4f23-9e0d-629b1a0e89db___Com.G_SpM_FL 8634.JPG"

from keras_preprocessing import image

test_image1 = image.load_img(test_image1)

test_image1 = image.img_to_array(test_image1)

test_image1 = preprocess_image(test_image1)

test_image1 = np.expand_dims(test_image1,axis=0)



pred = svm_classifier.predict(test_image1)

print(categories[pred[0]])
# print(pred)

import pickle
pickle.dump(svm_classifier,open('D:/Final_Project/skindiseasemodel.pkl','wb'))

load_model = pickle.load(open('D:/Final_Project/skindiseasemodel.pkl','rb'))

pred = load_model.predict(test_image1)

print(categories[pred[0]])



